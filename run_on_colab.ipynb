{
 "cells": [
  {
   "cell_type": "markdown",
   "id": "f95ee671",
   "metadata": {},
   "source": [
    "Use this file to run repo on Google colab"
   ]
  },
  {
   "cell_type": "code",
   "execution_count": null,
   "id": "094f7497",
   "metadata": {
    "vscode": {
     "languageId": "plaintext"
    }
   },
   "outputs": [],
   "source": [
    "import os\n",
    "from google.colab import drive\n",
    "\n",
    "drive.mount('/content/drive')\n",
    "\n",
    "!git clone https://github.com/BaSO-4/Training_GANs_on_small_datasets.git\n",
    "%cd Training_GANs_on_small_datasets\n",
    "\n",
    "!pip install -r requirements.txt\n",
    "!pip install torchvision matplotlib tqdm --quiet"
   ]
  },
  {
   "cell_type": "code",
   "execution_count": null,
   "id": "bfc6f340",
   "metadata": {
    "vscode": {
     "languageId": "plaintext"
    }
   },
   "outputs": [],
   "source": [
    "os.makedirs('checkpoints', exist_ok=True)\n",
    "os.makedirs('outputs', exist_ok=True)\n",
    "\n",
    "%cd Training_GANs_on_small_datasets\n",
    "!python ./data/data.py\n",
    "!python main.py --mode train --data ./data/flowers-102 --outdir ./outputs --batch 4 --resolution 128"
   ]
  }
 ],
 "metadata": {
  "language_info": {
   "name": "python"
  }
 },
 "nbformat": 4,
 "nbformat_minor": 5
}
